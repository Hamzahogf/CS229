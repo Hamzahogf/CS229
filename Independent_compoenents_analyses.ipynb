{
 "cells": [
  {
   "cell_type": "markdown",
   "id": "980c5584",
   "metadata": {},
   "source": [
    "## Setup"
   ]
  },
  {
   "cell_type": "code",
   "execution_count": 6,
   "id": "404b8706",
   "metadata": {},
   "outputs": [],
   "source": [
    "import numpy as np\n",
    "import librosa\n",
    "from sklearn.decomposition import FastICA\n",
    "import soundfile as sf"
   ]
  },
  {
   "cell_type": "markdown",
   "id": "104f1e39",
   "metadata": {},
   "source": [
    "## ICA"
   ]
  },
  {
   "cell_type": "code",
   "execution_count": 10,
   "id": "dafc8aab",
   "metadata": {},
   "outputs": [
    {
     "ename": "KeyboardInterrupt",
     "evalue": "",
     "output_type": "error",
     "traceback": [
      "\u001b[1;31m---------------------------------------------------------------------------\u001b[0m",
      "\u001b[1;31mKeyboardInterrupt\u001b[0m                         Traceback (most recent call last)",
      "Cell \u001b[1;32mIn[10], line 51\u001b[0m\n\u001b[0;32m     48\u001b[0m     \u001b[38;5;28;01mreturn\u001b[39;00m vocals\n\u001b[0;32m     50\u001b[0m \u001b[38;5;66;03m# Usage\u001b[39;00m\n\u001b[1;32m---> 51\u001b[0m extract_vocals_enhanced(\u001b[38;5;124m'\u001b[39m\u001b[38;5;124mNti T9lchi.mp3\u001b[39m\u001b[38;5;124m'\u001b[39m, \u001b[38;5;124m'\u001b[39m\u001b[38;5;124mextracted_vocals.wav\u001b[39m\u001b[38;5;124m'\u001b[39m)\n",
      "Cell \u001b[1;32mIn[10], line 24\u001b[0m, in \u001b[0;36mextract_vocals_enhanced\u001b[1;34m(input_mp3, output_vocals, sr)\u001b[0m\n\u001b[0;32m     22\u001b[0m \u001b[38;5;66;03m# 3. Perform ICA with more components\u001b[39;00m\n\u001b[0;32m     23\u001b[0m ica \u001b[38;5;241m=\u001b[39m FastICA(n_components\u001b[38;5;241m=\u001b[39m\u001b[38;5;241m4\u001b[39m, max_iter\u001b[38;5;241m=\u001b[39m\u001b[38;5;241m1000\u001b[39m, random_state\u001b[38;5;241m=\u001b[39m\u001b[38;5;241m42\u001b[39m)\n\u001b[1;32m---> 24\u001b[0m sources \u001b[38;5;241m=\u001b[39m ica\u001b[38;5;241m.\u001b[39mfit_transform(X\u001b[38;5;241m.\u001b[39mT)\u001b[38;5;241m.\u001b[39mT\n\u001b[0;32m     26\u001b[0m \u001b[38;5;66;03m# 4. Better vocal identification\u001b[39;00m\n\u001b[0;32m     27\u001b[0m \u001b[38;5;28;01mdef\u001b[39;00m \u001b[38;5;21mis_vocal_component\u001b[39m(y):\n",
      "File \u001b[1;32mc:\\Users\\hp\\anaconda3\\Lib\\site-packages\\sklearn\\utils\\_set_output.py:313\u001b[0m, in \u001b[0;36m_wrap_method_output.<locals>.wrapped\u001b[1;34m(self, X, *args, **kwargs)\u001b[0m\n\u001b[0;32m    311\u001b[0m \u001b[38;5;129m@wraps\u001b[39m(f)\n\u001b[0;32m    312\u001b[0m \u001b[38;5;28;01mdef\u001b[39;00m \u001b[38;5;21mwrapped\u001b[39m(\u001b[38;5;28mself\u001b[39m, X, \u001b[38;5;241m*\u001b[39margs, \u001b[38;5;241m*\u001b[39m\u001b[38;5;241m*\u001b[39mkwargs):\n\u001b[1;32m--> 313\u001b[0m     data_to_wrap \u001b[38;5;241m=\u001b[39m f(\u001b[38;5;28mself\u001b[39m, X, \u001b[38;5;241m*\u001b[39margs, \u001b[38;5;241m*\u001b[39m\u001b[38;5;241m*\u001b[39mkwargs)\n\u001b[0;32m    314\u001b[0m     \u001b[38;5;28;01mif\u001b[39;00m \u001b[38;5;28misinstance\u001b[39m(data_to_wrap, \u001b[38;5;28mtuple\u001b[39m):\n\u001b[0;32m    315\u001b[0m         \u001b[38;5;66;03m# only wrap the first output for cross decomposition\u001b[39;00m\n\u001b[0;32m    316\u001b[0m         return_tuple \u001b[38;5;241m=\u001b[39m (\n\u001b[0;32m    317\u001b[0m             _wrap_data_with_container(method, data_to_wrap[\u001b[38;5;241m0\u001b[39m], X, \u001b[38;5;28mself\u001b[39m),\n\u001b[0;32m    318\u001b[0m             \u001b[38;5;241m*\u001b[39mdata_to_wrap[\u001b[38;5;241m1\u001b[39m:],\n\u001b[0;32m    319\u001b[0m         )\n",
      "File \u001b[1;32mc:\\Users\\hp\\anaconda3\\Lib\\site-packages\\sklearn\\base.py:1473\u001b[0m, in \u001b[0;36m_fit_context.<locals>.decorator.<locals>.wrapper\u001b[1;34m(estimator, *args, **kwargs)\u001b[0m\n\u001b[0;32m   1466\u001b[0m     estimator\u001b[38;5;241m.\u001b[39m_validate_params()\n\u001b[0;32m   1468\u001b[0m \u001b[38;5;28;01mwith\u001b[39;00m config_context(\n\u001b[0;32m   1469\u001b[0m     skip_parameter_validation\u001b[38;5;241m=\u001b[39m(\n\u001b[0;32m   1470\u001b[0m         prefer_skip_nested_validation \u001b[38;5;129;01mor\u001b[39;00m global_skip_validation\n\u001b[0;32m   1471\u001b[0m     )\n\u001b[0;32m   1472\u001b[0m ):\n\u001b[1;32m-> 1473\u001b[0m     \u001b[38;5;28;01mreturn\u001b[39;00m fit_method(estimator, \u001b[38;5;241m*\u001b[39margs, \u001b[38;5;241m*\u001b[39m\u001b[38;5;241m*\u001b[39mkwargs)\n",
      "File \u001b[1;32mc:\\Users\\hp\\anaconda3\\Lib\\site-packages\\sklearn\\decomposition\\_fastica.py:713\u001b[0m, in \u001b[0;36mFastICA.fit_transform\u001b[1;34m(self, X, y)\u001b[0m\n\u001b[0;32m    694\u001b[0m \u001b[38;5;129m@_fit_context\u001b[39m(prefer_skip_nested_validation\u001b[38;5;241m=\u001b[39m\u001b[38;5;28;01mTrue\u001b[39;00m)\n\u001b[0;32m    695\u001b[0m \u001b[38;5;28;01mdef\u001b[39;00m \u001b[38;5;21mfit_transform\u001b[39m(\u001b[38;5;28mself\u001b[39m, X, y\u001b[38;5;241m=\u001b[39m\u001b[38;5;28;01mNone\u001b[39;00m):\n\u001b[0;32m    696\u001b[0m \u001b[38;5;250m    \u001b[39m\u001b[38;5;124;03m\"\"\"Fit the model and recover the sources from X.\u001b[39;00m\n\u001b[0;32m    697\u001b[0m \n\u001b[0;32m    698\u001b[0m \u001b[38;5;124;03m    Parameters\u001b[39;00m\n\u001b[1;32m   (...)\u001b[0m\n\u001b[0;32m    711\u001b[0m \u001b[38;5;124;03m        estimated unmixing matrix.\u001b[39;00m\n\u001b[0;32m    712\u001b[0m \u001b[38;5;124;03m    \"\"\"\u001b[39;00m\n\u001b[1;32m--> 713\u001b[0m     \u001b[38;5;28;01mreturn\u001b[39;00m \u001b[38;5;28mself\u001b[39m\u001b[38;5;241m.\u001b[39m_fit_transform(X, compute_sources\u001b[38;5;241m=\u001b[39m\u001b[38;5;28;01mTrue\u001b[39;00m)\n",
      "File \u001b[1;32mc:\\Users\\hp\\anaconda3\\Lib\\site-packages\\sklearn\\decomposition\\_fastica.py:660\u001b[0m, in \u001b[0;36mFastICA._fit_transform\u001b[1;34m(self, X, compute_sources)\u001b[0m\n\u001b[0;32m    651\u001b[0m kwargs \u001b[38;5;241m=\u001b[39m {\n\u001b[0;32m    652\u001b[0m     \u001b[38;5;124m\"\u001b[39m\u001b[38;5;124mtol\u001b[39m\u001b[38;5;124m\"\u001b[39m: \u001b[38;5;28mself\u001b[39m\u001b[38;5;241m.\u001b[39mtol,\n\u001b[0;32m    653\u001b[0m     \u001b[38;5;124m\"\u001b[39m\u001b[38;5;124mg\u001b[39m\u001b[38;5;124m\"\u001b[39m: g,\n\u001b[1;32m   (...)\u001b[0m\n\u001b[0;32m    656\u001b[0m     \u001b[38;5;124m\"\u001b[39m\u001b[38;5;124mw_init\u001b[39m\u001b[38;5;124m\"\u001b[39m: w_init,\n\u001b[0;32m    657\u001b[0m }\n\u001b[0;32m    659\u001b[0m \u001b[38;5;28;01mif\u001b[39;00m \u001b[38;5;28mself\u001b[39m\u001b[38;5;241m.\u001b[39malgorithm \u001b[38;5;241m==\u001b[39m \u001b[38;5;124m\"\u001b[39m\u001b[38;5;124mparallel\u001b[39m\u001b[38;5;124m\"\u001b[39m:\n\u001b[1;32m--> 660\u001b[0m     W, n_iter \u001b[38;5;241m=\u001b[39m _ica_par(X1, \u001b[38;5;241m*\u001b[39m\u001b[38;5;241m*\u001b[39mkwargs)\n\u001b[0;32m    661\u001b[0m \u001b[38;5;28;01melif\u001b[39;00m \u001b[38;5;28mself\u001b[39m\u001b[38;5;241m.\u001b[39malgorithm \u001b[38;5;241m==\u001b[39m \u001b[38;5;124m\"\u001b[39m\u001b[38;5;124mdeflation\u001b[39m\u001b[38;5;124m\"\u001b[39m:\n\u001b[0;32m    662\u001b[0m     W, n_iter \u001b[38;5;241m=\u001b[39m _ica_def(X1, \u001b[38;5;241m*\u001b[39m\u001b[38;5;241m*\u001b[39mkwargs)\n",
      "File \u001b[1;32mc:\\Users\\hp\\anaconda3\\Lib\\site-packages\\sklearn\\decomposition\\_fastica.py:118\u001b[0m, in \u001b[0;36m_ica_par\u001b[1;34m(***failed resolving arguments***)\u001b[0m\n\u001b[0;32m    116\u001b[0m \u001b[38;5;28;01mfor\u001b[39;00m ii \u001b[38;5;129;01min\u001b[39;00m \u001b[38;5;28mrange\u001b[39m(max_iter):\n\u001b[0;32m    117\u001b[0m     gwtx, g_wtx \u001b[38;5;241m=\u001b[39m g(np\u001b[38;5;241m.\u001b[39mdot(W, X), fun_args)\n\u001b[1;32m--> 118\u001b[0m     W1 \u001b[38;5;241m=\u001b[39m _sym_decorrelation(np\u001b[38;5;241m.\u001b[39mdot(gwtx, X\u001b[38;5;241m.\u001b[39mT) \u001b[38;5;241m/\u001b[39m p_ \u001b[38;5;241m-\u001b[39m g_wtx[:, np\u001b[38;5;241m.\u001b[39mnewaxis] \u001b[38;5;241m*\u001b[39m W)\n\u001b[0;32m    119\u001b[0m     \u001b[38;5;28;01mdel\u001b[39;00m gwtx, g_wtx\n\u001b[0;32m    120\u001b[0m     \u001b[38;5;66;03m# builtin max, abs are faster than numpy counter parts.\u001b[39;00m\n\u001b[0;32m    121\u001b[0m     \u001b[38;5;66;03m# np.einsum allows having the lowest memory footprint.\u001b[39;00m\n\u001b[0;32m    122\u001b[0m     \u001b[38;5;66;03m# It is faster than np.diag(np.dot(W1, W.T)).\u001b[39;00m\n",
      "\u001b[1;31mKeyboardInterrupt\u001b[0m: "
     ]
    }
   ],
   "source": [
    "import numpy as np\n",
    "import librosa\n",
    "from sklearn.decomposition import FastICA\n",
    "import soundfile as sf\n",
    "import matplotlib.pyplot as plt\n",
    "\n",
    "def extract_vocals_enhanced(input_mp3, output_vocals='vocals.wav', sr=44100):\n",
    "    # 1. Load with higher quality settings\n",
    "    try:\n",
    "        x, sr = librosa.load(input_mp3, sr=sr, mono=False)\n",
    "        if x.ndim == 1:\n",
    "            x = np.vstack([x, x])  # Create stereo if mono\n",
    "    except Exception as e:\n",
    "        print(f\"Error loading file: {e}\")\n",
    "        return None\n",
    "\n",
    "    # 2. Create enhanced channel set\n",
    "    mid = 0.5 * (x[0] + x[1])  # Mid channel (vocals usually centered)\n",
    "    side = 0.5 * (x[0] - x[1])  # Side channel\n",
    "    X = np.vstack([x[0], x[1], mid, side])  # 4-channel input\n",
    "\n",
    "    # 3. Perform ICA with more components\n",
    "    ica = FastICA(n_components=4, max_iter=1000, random_state=42)\n",
    "    sources = ica.fit_transform(X.T).T\n",
    "\n",
    "    # 4. Better vocal identification\n",
    "    def is_vocal_component(y):\n",
    "        y_harmonic = librosa.effects.harmonic(y)\n",
    "        features = {\n",
    "            'harmonic': np.mean(librosa.feature.spectral_flatness(y=y_harmonic)),\n",
    "            'percussive': 1 - np.mean(librosa.feature.spectral_flatness(y=librosa.effects.percussive(y))),\n",
    "            'centroid': np.mean(librosa.feature.spectral_centroid(y=y))\n",
    "        }\n",
    "        return 0.6*features['harmonic'] + 0.3*features['percussive'] + 0.1*(1/features['centroid'])\n",
    "\n",
    "    scores = [is_vocal_component(src) for src in sources]\n",
    "    vocal_idx = np.argmax(scores)\n",
    "    vocals = sources[vocal_idx]\n",
    "\n",
    "    # 5. Advanced post-processing\n",
    "    vocals = librosa.effects.harmonic(vocals, margin=8)  # Stronger harmonic extraction\n",
    "    vocals = librosa.util.normalize(vocals) * 0.9  # Prevent clipping\n",
    "\n",
    "    # 6. Save output\n",
    "    sf.write(output_vocals, vocals, sr)\n",
    "    print(f\"Vocal extraction complete. Saved to {output_vocals}\")\n",
    "    \n",
    "    return vocals\n",
    "\n",
    "# Usage\n",
    "extract_vocals_enhanced('Nti T9lchi.mp3', 'extracted_vocals.wav')"
   ]
  }
 ],
 "metadata": {
  "kernelspec": {
   "display_name": "base",
   "language": "python",
   "name": "python3"
  },
  "language_info": {
   "codemirror_mode": {
    "name": "ipython",
    "version": 3
   },
   "file_extension": ".py",
   "mimetype": "text/x-python",
   "name": "python",
   "nbconvert_exporter": "python",
   "pygments_lexer": "ipython3",
   "version": "3.12.7"
  }
 },
 "nbformat": 4,
 "nbformat_minor": 5
}
