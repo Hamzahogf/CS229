{
 "cells": [
  {
   "cell_type": "code",
   "execution_count": 1,
   "id": "55b67935",
   "metadata": {},
   "outputs": [],
   "source": [
    "import numpy as np\n",
    "import pandas as pd\n",
    "import matplotlib.pyplot as plt\n",
    "import warnings; warnings.filterwarnings(\"ignore\")\n",
    "from sklearn.model_selection import train_test_split\n",
    "from sklearn.preprocessing import StandardScaler, OneHotEncoder\n",
    "from sklearn.linear_model import LogisticRegression, Perceptron\n",
    "from sklearn.naive_bayes import GaussianNB\n",
    "from sklearn.metrics import accuracy_score, precision_score, recall_score, f1_score\n",
    "from sklearn.discriminant_analysis import QuadraticDiscriminantAnalysis\n",
    "from sklearn.svm import SVC\n",
    "import seaborn as sns # type: ignore\n",
    "\n",
    "\n",
    "def evaluate_model(model, X_train, X_test, y_train, y_test):\n",
    "    model.fit(X_train, y_train)\n",
    "    y_pred = model.predict(X_test)\n",
    "    return {\n",
    "        'Accuracy': accuracy_score(y_test, y_pred),\n",
    "        'Precision': precision_score(y_test, y_pred),\n",
    "        'Recall': recall_score(y_test, y_pred),\n",
    "        'F1-Score': f1_score(y_test, y_pred)\n",
    "    }"
   ]
  },
  {
   "cell_type": "code",
   "execution_count": 2,
   "id": "f24c1269",
   "metadata": {},
   "outputs": [
    {
     "data": {
      "text/html": [
       "<div>\n",
       "<style scoped>\n",
       "    .dataframe tbody tr th:only-of-type {\n",
       "        vertical-align: middle;\n",
       "    }\n",
       "\n",
       "    .dataframe tbody tr th {\n",
       "        vertical-align: top;\n",
       "    }\n",
       "\n",
       "    .dataframe thead th {\n",
       "        text-align: right;\n",
       "    }\n",
       "</style>\n",
       "<table border=\"1\" class=\"dataframe\">\n",
       "  <thead>\n",
       "    <tr style=\"text-align: right;\">\n",
       "      <th></th>\n",
       "      <th>packet_duration</th>\n",
       "      <th>length</th>\n",
       "      <th>target</th>\n",
       "    </tr>\n",
       "  </thead>\n",
       "  <tbody>\n",
       "    <tr>\n",
       "      <th>count</th>\n",
       "      <td>11663.000000</td>\n",
       "      <td>11663.000000</td>\n",
       "      <td>11663.000000</td>\n",
       "    </tr>\n",
       "    <tr>\n",
       "      <th>mean</th>\n",
       "      <td>0.076039</td>\n",
       "      <td>78.192232</td>\n",
       "      <td>0.364400</td>\n",
       "    </tr>\n",
       "    <tr>\n",
       "      <th>std</th>\n",
       "      <td>0.194145</td>\n",
       "      <td>10.879049</td>\n",
       "      <td>0.481282</td>\n",
       "    </tr>\n",
       "    <tr>\n",
       "      <th>min</th>\n",
       "      <td>-0.998000</td>\n",
       "      <td>5.000000</td>\n",
       "      <td>0.000000</td>\n",
       "    </tr>\n",
       "    <tr>\n",
       "      <th>25%</th>\n",
       "      <td>0.001000</td>\n",
       "      <td>76.000000</td>\n",
       "      <td>0.000000</td>\n",
       "    </tr>\n",
       "    <tr>\n",
       "      <th>50%</th>\n",
       "      <td>0.005000</td>\n",
       "      <td>76.000000</td>\n",
       "      <td>0.000000</td>\n",
       "    </tr>\n",
       "    <tr>\n",
       "      <th>75%</th>\n",
       "      <td>0.009000</td>\n",
       "      <td>76.000000</td>\n",
       "      <td>1.000000</td>\n",
       "    </tr>\n",
       "    <tr>\n",
       "      <th>max</th>\n",
       "      <td>3.325000</td>\n",
       "      <td>102.000000</td>\n",
       "      <td>1.000000</td>\n",
       "    </tr>\n",
       "  </tbody>\n",
       "</table>\n",
       "</div>"
      ],
      "text/plain": [
       "       packet_duration        length        target\n",
       "count     11663.000000  11663.000000  11663.000000\n",
       "mean          0.076039     78.192232      0.364400\n",
       "std           0.194145     10.879049      0.481282\n",
       "min          -0.998000      5.000000      0.000000\n",
       "25%           0.001000     76.000000      0.000000\n",
       "50%           0.005000     76.000000      0.000000\n",
       "75%           0.009000     76.000000      1.000000\n",
       "max           3.325000    102.000000      1.000000"
      ]
     },
     "execution_count": 2,
     "metadata": {},
     "output_type": "execute_result"
    }
   ],
   "source": [
    "df = pd.read_csv(r'C:\\Users\\hp\\Saclay-ai\\ML\\train_data.csv')\n",
    "df.describe()"
   ]
  },
  {
   "cell_type": "code",
   "execution_count": 3,
   "id": "4f27d5a0",
   "metadata": {},
   "outputs": [],
   "source": [
    "X = df.drop(columns=[\"packet_id\", \"target\"])\n",
    "y = df['target']\n",
    "X_train, X_test, y_train, y_test = train_test_split(X,y, test_size=0.2, random_state=2)"
   ]
  },
  {
   "cell_type": "code",
   "execution_count": 4,
   "id": "0968b022",
   "metadata": {},
   "outputs": [],
   "source": [
    "# One-hot encode categorical features with handle_unknown='ignore'\n",
    "D = OneHotEncoder(drop='first', sparse_output=False, handle_unknown='ignore')\n",
    "X_train_new = D.fit_transform(X_train[[\"second_frame\", \"src_ip\", \"dest_ip\", \"protocol\", \"info\"]])\n",
    "X_test_new = D.transform(X_test[[\"second_frame\", \"src_ip\", \"dest_ip\", \"protocol\", \"info\"]])\n",
    "\n",
    "# Concatenate with numerical features\n",
    "X_train_final = np.concatenate([X_train_new, X_train[['packet_duration', 'length']].values], axis=1)\n",
    "X_test_final = np.concatenate([X_test_new, X_test[['packet_duration', 'length']].values], axis=1)\n",
    "\n",
    "# Feature names\n",
    "final_feature_names = list(D.get_feature_names_out([\"second_frame\", \"src_ip\", \"dest_ip\", \"protocol\", \"info\"])) + ['packet_duration', 'length']\n",
    "X_train_final_df = pd.DataFrame(X_train_final, columns=final_feature_names)\n",
    "X_test_final_df = pd.DataFrame(X_test_final, columns=final_feature_names)\n",
    "\n",
    "# Standardize numerical features\n",
    "scaler = StandardScaler()\n",
    "num_indices = [X_train_final_df.columns.get_loc(col) for col in ['packet_duration', 'length']]\n",
    "X_train_final[:, num_indices] = scaler.fit_transform(X_train_final[:, num_indices])\n",
    "X_test_final[:, num_indices] = scaler.transform(X_test_final[:, num_indices])"
   ]
  },
  {
   "cell_type": "code",
   "execution_count": 5,
   "id": "a51440d5",
   "metadata": {},
   "outputs": [
    {
     "data": {
      "image/png": "[encoded data removed]",
      "text/plain": [
       "<Figure size 2000x800 with 2 Axes>"
      ]
     },
     "metadata": {},
     "output_type": "display_data"
    }
   ],
   "source": [
    "plt.figure(figsize=(20, 8))\n",
    "corr_matrix = X_train_final_df[['packet_duration', 'length']].corr()\n",
    "sns.heatmap(corr_matrix, annot=True, cmap='coolwarm', fmt=\".2f\")\n",
    "plt.title(\"correlation Matrix\")\n",
    "plt.show()"
   ]
  },
  {
   "cell_type": "markdown",
   "id": "9fc4113a",
   "metadata": {},
   "source": [
    "## 1.Logitic Regression"
   ]
  },
  {
   "cell_type": "code",
   "execution_count": 6,
   "id": "3847fa8f",
   "metadata": {},
   "outputs": [
    {
     "name": "stdout",
     "output_type": "stream",
     "text": [
      "Logistic Regression: {'Accuracy': 0.951993141877411, 'Precision': 0.9657360406091371, 'Recall': 0.8995271867612293, 'F1-Score': 0.9314565483476133}\n"
     ]
    }
   ],
   "source": [
    "log_reg = LogisticRegression(random_state=42)\n",
    "log_reg_result = evaluate_model(log_reg, X_train_final, X_test_final, y_train, y_test)\n",
    "print(\"Logistic Regression:\", log_reg_result)"
   ]
  },
  {
   "cell_type": "markdown",
   "id": "e55b05f1",
   "metadata": {},
   "source": [
    "## 2.Perceptron"
   ]
  },
  {
   "cell_type": "code",
   "execution_count": 7,
   "id": "bf555a06",
   "metadata": {},
   "outputs": [
    {
     "name": "stdout",
     "output_type": "stream",
     "text": [
      "Perceptron: {'Accuracy': 0.9807115302186027, 'Precision': 0.9739644970414201, 'Recall': 0.9728132387706856, 'F1-Score': 0.9733885274985216}\n"
     ]
    }
   ],
   "source": [
    "percpt = Perceptron(random_state=42)\n",
    "percpt_result = evaluate_model(percpt, X_train_final, X_test_final, y_train, y_test)\n",
    "print(\"Perceptron:\", percpt_result)"
   ]
  },
  {
   "cell_type": "markdown",
   "id": "0b85a9a4",
   "metadata": {},
   "source": [
    "## 3.GDA"
   ]
  },
  {
   "cell_type": "code",
   "execution_count": 8,
   "id": "dbc637aa",
   "metadata": {},
   "outputs": [
    {
     "name": "stdout",
     "output_type": "stream",
     "text": [
      "GDA: {'Accuracy': 0.9888555507929704, 'Precision': 1.0, 'Recall': 0.9692671394799054, 'F1-Score': 0.9843937575030012}\n"
     ]
    }
   ],
   "source": [
    "gda = QuadraticDiscriminantAnalysis()\n",
    "gda_result = evaluate_model(gda, X_train_final, X_test_final, y_train, y_test)\n",
    "print(\"GDA:\", gda_result)"
   ]
  },
  {
   "cell_type": "markdown",
   "id": "d15ee897",
   "metadata": {},
   "source": [
    "## 4.Naive Bayes"
   ]
  },
  {
   "cell_type": "code",
   "execution_count": 9,
   "id": "0747141f",
   "metadata": {},
   "outputs": [
    {
     "name": "stdout",
     "output_type": "stream",
     "text": [
      "Naive Bayes: {'Accuracy': 0.9991427346763824, 'Precision': 0.9976415094339622, 'Recall': 1.0, 'F1-Score': 0.9988193624557261}\n"
     ]
    }
   ],
   "source": [
    "nb = GaussianNB()\n",
    "nb_result = evaluate_model(nb, X_train_final, X_test_final, y_train, y_test)\n",
    "print(\"Naive Bayes:\", nb_result)"
   ]
  },
  {
   "cell_type": "markdown",
   "id": "d801dc17",
   "metadata": {},
   "source": [
    "## 5.SVM(linear kernel'i.e no kernel')"
   ]
  },
  {
   "cell_type": "code",
   "execution_count": 10,
   "id": "ae24c325",
   "metadata": {},
   "outputs": [
    {
     "name": "stdout",
     "output_type": "stream",
     "text": [
      "SVM (linear): {'Accuracy': 0.9901414487783969, 'Precision': 0.9987878787878788, 'Recall': 0.9739952718676123, 'F1-Score': 0.9862357869539198}\n"
     ]
    }
   ],
   "source": [
    "svm_linear = SVC(kernel='linear', C=1, random_state=42)\n",
    "svm_linear_result  = evaluate_model(svm_linear, X_train_final, X_test_final, y_train, y_test)\n",
    "print(\"SVM (linear):\", svm_linear_result)"
   ]
  },
  {
   "cell_type": "markdown",
   "id": "f528d871",
   "metadata": {},
   "source": [
    "## 6.SVM(polynomial kernel)"
   ]
  },
  {
   "cell_type": "code",
   "execution_count": 11,
   "id": "01e5222b",
   "metadata": {},
   "outputs": [
    {
     "name": "stdout",
     "output_type": "stream",
     "text": [
      "SVM (poly): {'Accuracy': 0.9901414487783969, 'Precision': 0.9987878787878788, 'Recall': 0.9739952718676123, 'F1-Score': 0.9862357869539198}\n"
     ]
    }
   ],
   "source": [
    "svm_poly = SVC(kernel='linear', C=1, random_state=42)\n",
    "svm_poly_result  = evaluate_model(svm_poly, X_train_final, X_test_final, y_train, y_test)\n",
    "print(\"SVM (poly):\", svm_poly_result)"
   ]
  },
  {
   "cell_type": "markdown",
   "id": "78889f03",
   "metadata": {},
   "source": [
    "## 7.SVM(Gaussian kernel)"
   ]
  },
  {
   "cell_type": "code",
   "execution_count": 12,
   "id": "889b08d9",
   "metadata": {},
   "outputs": [
    {
     "name": "stdout",
     "output_type": "stream",
     "text": [
      "SVM (RBF): {'Accuracy': 0.9901414487783969, 'Precision': 0.9987878787878788, 'Recall': 0.9739952718676123, 'F1-Score': 0.9862357869539198}\n"
     ]
    }
   ],
   "source": [
    "svm_rbf = SVC(kernel='linear', C=1, random_state=42)\n",
    "svm_rbf_result  = evaluate_model(svm_rbf, X_train_final, X_test_final, y_train, y_test)\n",
    "print(\"SVM (RBF):\", svm_rbf_result)"
   ]
  },
  {
   "cell_type": "code",
   "execution_count": 17,
   "id": "5d56e18a",
   "metadata": {
    "vscode": {
     "languageId": "javascript"
    }
   },
   "outputs": [
    {
     "name": "stdout",
     "output_type": "stream",
     "text": [
      "\n",
      "Model Comparison:\n",
      "                      Accuracy  Precision    Recall  F1-Score\n",
      "Logistic Regression  0.951993   0.965736  0.899527  0.931457\n",
      "Perceptron           0.980712   0.973964  0.972813  0.973389\n",
      "GDA (QDA)            0.988856   1.000000  0.969267  0.984394\n",
      "Naïve Bayes          0.999143   0.997642  1.000000  0.998819\n",
      "SVM (Linear)         0.990141   0.998788  0.973995  0.986236\n",
      "SVM (Polynomial)     0.990141   0.998788  0.973995  0.986236\n",
      "SVM (RBF)            0.990141   0.998788  0.973995  0.986236\n"
     ]
    }
   ],
   "source": [
    "results = pd.DataFrame({\n",
    "    'Logistic Regression': log_reg_result,\n",
    "    'Perceptron': percpt_result,\n",
    "    'GDA (QDA)': gda_result,\n",
    "    'Naïve Bayes': nb_result,\n",
    "    'SVM (Linear)': svm_linear_result,\n",
    "    'SVM (Polynomial)': svm_poly_result,\n",
    "    'SVM (RBF)': svm_rbf_result\n",
    "}).T\n",
    "print(\"\\nModel Comparison:\\n\", results)"
   ]
  }
 ],
 "metadata": {
  "kernelspec": {
   "display_name": "base",
   "language": "python",
   "name": "python3"
  },
  "language_info": {
   "codemirror_mode": {
    "name": "ipython",
    "version": 3
   },
   "file_extension": ".py",
   "mimetype": "text/x-python",
   "name": "python",
   "nbconvert_exporter": "python",
   "pygments_lexer": "ipython3",
   "version": "3.12.7"
  }
 },
 "nbformat": 4,
 "nbformat_minor": 5
}
